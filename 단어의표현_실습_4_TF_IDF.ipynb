{
 "cells": [
  {
   "cell_type": "markdown",
   "metadata": {},
   "source": [
    "# TF-IDF 직접구현"
   ]
  },
  {
   "cell_type": "code",
   "execution_count": 2,
   "metadata": {},
   "outputs": [],
   "source": [
    "docs= ['오늘 동물원에서 원숭이와 코끼리를 봤어', \n",
    "      '동물원에서 원숭이에게 바나나를 줬어 바나나를']"
   ]
  },
  {
   "cell_type": "markdown",
   "metadata": {},
   "source": [
    " ## 토큰생성"
   ]
  },
  {
   "cell_type": "code",
   "execution_count": 3,
   "metadata": {},
   "outputs": [
    {
     "data": {
      "text/plain": [
       "[['오늘', '동물원에서', '원숭이와', '코끼리를', '봤어'],\n",
       " ['동물원에서', '원숭이에게', '바나나를', '줬어', '바나나를']]"
      ]
     },
     "execution_count": 3,
     "metadata": {},
     "output_type": "execute_result"
    }
   ],
   "source": [
    "doc_ls=[]\n",
    "for doc in docs:\n",
    "    doc_ls.append(doc.split()) # 공백으로 토큰화 \n",
    "doc_ls"
   ]
  },
  {
   "cell_type": "code",
   "execution_count": 4,
   "metadata": {},
   "outputs": [
    {
     "name": "stdout",
     "output_type": "stream",
     "text": [
      "defaultdict(<function <lambda> at 0x000001CDCD6CF378>, {'오늘': 0, '동물원에서': 1, '원숭이와': 2, '코끼리를': 3, '봤어': 4, '원숭이에게': 5, '바나나를': 6, '줬어': 7})\n"
     ]
    }
   ],
   "source": [
    "from collections import defaultdict\n",
    "\n",
    "word2id = defaultdict(lambda: len(word2id))\n",
    "for doc in doc_ls:\n",
    "    for token in doc:\n",
    "        word2id[token]\n",
    "        \n",
    "print(word2id)"
   ]
  },
  {
   "cell_type": "markdown",
   "metadata": {},
   "source": [
    "## TDM 구하기"
   ]
  },
  {
   "cell_type": "code",
   "execution_count": 6,
   "metadata": {},
   "outputs": [
    {
     "name": "stdout",
     "output_type": "stream",
     "text": [
      "[[0 0 0 0 0 0 0 0]\n",
      " [0 0 0 0 0 0 0 0]]\n"
     ]
    },
    {
     "data": {
      "text/plain": [
       "array([[1, 1, 1, 1, 1, 0, 0, 0],\n",
       "       [0, 1, 0, 0, 0, 1, 2, 1]])"
      ]
     },
     "execution_count": 6,
     "metadata": {},
     "output_type": "execute_result"
    }
   ],
   "source": [
    "import numpy as np\n",
    "TDM = np.zeros((len(doc_ls),len(word2id)), dtype=int)\n",
    "print(TDM)\n",
    "\n",
    "for i, doc in enumerate(doc_ls):\n",
    "    for token in doc:\n",
    "        TDM[i, word2id[token] ] +=1\n",
    "TDM"
   ]
  },
  {
   "cell_type": "code",
   "execution_count": 7,
   "metadata": {},
   "outputs": [
    {
     "data": {
      "text/plain": [
       "5"
      ]
     },
     "execution_count": 7,
     "metadata": {},
     "output_type": "execute_result"
    }
   ],
   "source": [
    "TDM[0].sum()"
   ]
  },
  {
   "cell_type": "markdown",
   "metadata": {},
   "source": [
    "## TF 계산"
   ]
  },
  {
   "cell_type": "code",
   "execution_count": 19,
   "metadata": {},
   "outputs": [],
   "source": [
    "# TF 계산 -> 특정단어등장빈도/ 문서내 전체등장단어빈도"
   ]
  },
  {
   "cell_type": "code",
   "execution_count": 8,
   "metadata": {},
   "outputs": [
    {
     "data": {
      "text/plain": [
       "array([[0.2, 0.2, 0.2, 0.2, 0.2, 0. , 0. , 0. ],\n",
       "       [0. , 0.2, 0. , 0. , 0. , 0.2, 0.4, 0.2]])"
      ]
     },
     "execution_count": 8,
     "metadata": {},
     "output_type": "execute_result"
    }
   ],
   "source": [
    "def computeTF(TDM):\n",
    "    doc_len=len(TDM) # 문서개수 2개\n",
    "    word_len=len(TDM[0]) # 단어개수 8개\n",
    "    \n",
    "    tf=np.zeros((doc_len,word_len))\n",
    "\n",
    "    for doc_i in range(doc_len):\n",
    "        for word_i in range(word_len):\n",
    "            tf[doc_i,word_i]= TDM[doc_i,word_i]/TDM[doc_i].sum()\n",
    "    return tf\n",
    "\n",
    "computeTF(TDM)"
   ]
  },
  {
   "cell_type": "code",
   "execution_count": null,
   "metadata": {},
   "outputs": [],
   "source": []
  },
  {
   "cell_type": "code",
   "execution_count": null,
   "metadata": {},
   "outputs": [],
   "source": []
  },
  {
   "cell_type": "markdown",
   "metadata": {},
   "source": [
    "## IDF 계산"
   ]
  },
  {
   "cell_type": "code",
   "execution_count": 10,
   "metadata": {},
   "outputs": [],
   "source": [
    "import math\n",
    "# IDF 계산 : -log(단어가 등장한 문서수/ 총 문서수 )"
   ]
  },
  {
   "cell_type": "code",
   "execution_count": 12,
   "metadata": {},
   "outputs": [
    {
     "data": {
      "text/plain": [
       "array([-0.     , -0.30103, -0.     , -0.     , -0.     , -0.     ,\n",
       "       -0.     , -0.     ])"
      ]
     },
     "execution_count": 12,
     "metadata": {},
     "output_type": "execute_result"
    }
   ],
   "source": [
    "def computeIDF(TDM):\n",
    "    doc_len=len(TDM)\n",
    "    word_len=len(TDM[0])\n",
    "    \n",
    "    idf=np.zeros(word_len)\n",
    "    \n",
    "    for i in range(word_len):\n",
    "        idf[i]= -math.log10(np.count_nonzero(TDM[:,i]/doc_len))# 로그 계산법\n",
    "    return idf\n",
    "\n",
    "computeIDF(TDM)"
   ]
  },
  {
   "cell_type": "code",
   "execution_count": null,
   "metadata": {},
   "outputs": [],
   "source": []
  },
  {
   "cell_type": "code",
   "execution_count": null,
   "metadata": {},
   "outputs": [],
   "source": []
  },
  {
   "cell_type": "code",
   "execution_count": null,
   "metadata": {},
   "outputs": [],
   "source": []
  },
  {
   "cell_type": "code",
   "execution_count": null,
   "metadata": {},
   "outputs": [],
   "source": []
  },
  {
   "cell_type": "markdown",
   "metadata": {},
   "source": [
    "## TF-IDF 계산"
   ]
  },
  {
   "cell_type": "code",
   "execution_count": 13,
   "metadata": {},
   "outputs": [],
   "source": [
    "# TF- IDF 곱"
   ]
  },
  {
   "cell_type": "code",
   "execution_count": 14,
   "metadata": {},
   "outputs": [
    {
     "data": {
      "text/plain": [
       "array([[-0.      , -0.060206, -0.      , -0.      , -0.      , -0.      ,\n",
       "        -0.      , -0.      ],\n",
       "       [-0.      , -0.060206, -0.      , -0.      , -0.      , -0.      ,\n",
       "        -0.      , -0.      ]])"
      ]
     },
     "execution_count": 14,
     "metadata": {},
     "output_type": "execute_result"
    }
   ],
   "source": [
    "def computeTFIDF(TDM):\n",
    "    tf = computeTF(TDM)\n",
    "    idf= computeIDF(TDM)\n",
    "    tfidf=np.zeros(tf.shape)\n",
    "    for doc_i in range(tf.shape[0]):\n",
    "        for word_i in range(tf.shape[1]):\n",
    "            tfidf[doc_i, word_i] = tf[doc_i, word_i] * idf[word_i]\n",
    "    return tfidf\n",
    "\n",
    "computeTFIDF(TDM)"
   ]
  },
  {
   "cell_type": "code",
   "execution_count": null,
   "metadata": {},
   "outputs": [],
   "source": []
  },
  {
   "cell_type": "code",
   "execution_count": null,
   "metadata": {},
   "outputs": [],
   "source": []
  },
  {
   "cell_type": "code",
   "execution_count": null,
   "metadata": {},
   "outputs": [],
   "source": []
  }
 ],
 "metadata": {
  "kernelspec": {
   "display_name": "Python 3",
   "language": "python",
   "name": "python3"
  },
  "language_info": {
   "codemirror_mode": {
    "name": "ipython",
    "version": 3
   },
   "file_extension": ".py",
   "mimetype": "text/x-python",
   "name": "python",
   "nbconvert_exporter": "python",
   "pygments_lexer": "ipython3",
   "version": "3.6.4"
  }
 },
 "nbformat": 4,
 "nbformat_minor": 2
}
